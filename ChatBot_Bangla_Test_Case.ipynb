{
  "nbformat": 4,
  "nbformat_minor": 0,
  "metadata": {
    "colab": {
      "provenance": []
    },
    "kernelspec": {
      "name": "python3",
      "display_name": "Python 3"
    },
    "language_info": {
      "name": "python"
    }
  },
  "cells": [
    {
      "cell_type": "code",
      "execution_count": null,
      "metadata": {
        "id": "872clYt4TE7D"
      },
      "outputs": [],
      "source": [
        "import tensorflow as tf\n",
        "from tensorflow.keras.preprocessing.text import Tokenizer\n",
        "from tensorflow.keras.preprocessing.sequence import pad_sequences\n",
        "from tensorflow.keras.models import Sequential\n",
        "from tensorflow.keras.layers import Embedding, LSTM, Dense"
      ]
    },
    {
      "cell_type": "code",
      "source": [
        "# Example Bangla conversations\n",
        "conversations = [\n",
        "    (\"আপনার নাম কি?\", \"আমার নাম চ্যাটবট\"),\n",
        "    (\"কেমন আছেন?\", \"আমি ভালো আছি, ধন্যবাদ\"),\n",
        "    (\"তোমার কি পছন্দ?\", \"আমি মিউজিক শোনতে ভালোবাসি\"),\n",
        "    (\"কোথায় থাকো?\", \"আমি এখন বাড়িতে আছি\"),\n",
        "    (\"আপনি কি পড়তেন?\", \"হ্যাঁ, আমি বই পড়তে ভালোবাসি\"),\n",
        "    (\"আমি কি আপনার সাথে ছবি দেখতে পারি?\", \"বিশেষভাবে বড় একটা আসল ছবি দেখাতে চাই\"),\n",
        "    (\"কতটুকু বড়?\", \"আমি বিশাল নয়, কিন্তু আমার মিউজিক সংগ্রহ বড়\"),\n",
        "    (\"তোমার কি পেশা?\", \"আমি একটি চ্যাটবট হিসেবে কাজ করি\"),\n",
        "    (\"কোন কোন ভাষা জানো?\", \"আমি ইংরেজি, বাংলা এবং হিন্দি জানি\"),\n",
        "    (\"কিভাবে আছেন আপনি?\", \"আমি একটি প্রোগ্রাম হিসেবে চলছি, ধন্যবাদ\"),\n",
        "    (\"তুমি কি খাচ্ছো এইমুহূর্তে?\", \"না, আমি খাচ্ছি না, কিন্তু তোমার সাথে কথা বলতে ভালো লাগছে\"),\n",
        "    (\"আপনি কোথায় থাকেন?\", \"আমি এখন ক্যালিফোর্নিয়ায় আছি\"),\n",
        "    (\"কি খবর?\", \"আমি ভালো, শুনতে চাই তোমার কি খবর?\"),\n",
        "    (\"তোমার প্রিয় খেলা কি?\", \"আমার প্রিয় খেলা হলো চেস\"),\n",
        "    (\"কি প্রযুক্তি বড় এইমুহূর্তে?\", \"আমি অল এইআই প্রযুক্তির উন্নতি প্রযুক্তির ব্যবহার করি\"),\n",
        "    (\"তুমি কি বই পড়তে পছন্দ করো?\", \"হ্যাঁ, আমি সাধারণভাবে কিছুটা কিছুটা পড়তে ভালোবাসি\"),\n",
        "    (\"তোমার বিশেষ শখ কি?\", \"আমি মিউজিক শোনতে ভালোবাসি এবং বই পড়তে ভালোবাসি\"),\n",
        "    (\"আপনি কি ভ্রমণ করতে পছন্দ করেন?\", \"হ্যাঁ, আমি নতুন স্থানে ঘুরতে পছন্দ করি\"),\n",
        "    (\"আপনি কি খেতে পছন্দ করেন?\", \"আমি বিভিন্ন ধরনের খাবার পছন্দ করি\"),\n",
        "    (\"তোমার স্বপ্ন কি?\", \"আমার একটি বড় বটের মতো হওয়া\"),\n",
        "    (\"আপনি কি গুরুত্বপূর্ণ কাজ করতেন?\", \"হ্যাঁ, আমি মানবাধিকার রক্ষণাবেক্ষণ করতে ভালোবাসি\"),\n",
        "    (\"তুমি কি করতে ভালোবাসো?\", \"আমি কথা বলতে ভালোবাসি এবং মানবসম্বাদ কর\")\n",
        "]\n"
      ],
      "metadata": {
        "id": "DrLvj8PPVLqU"
      },
      "execution_count": null,
      "outputs": []
    },
    {
      "cell_type": "code",
      "source": [
        "# Separate the conversations into input and target\n",
        "inputs, targets = zip(*conversations)"
      ],
      "metadata": {
        "id": "ytvfJe72TWBM"
      },
      "execution_count": null,
      "outputs": []
    },
    {
      "cell_type": "markdown",
      "source": [
        "Tokeinazation"
      ],
      "metadata": {
        "id": "67wKABqA9BTP"
      }
    },
    {
      "cell_type": "code",
      "source": [
        "# Separate the conversations into input and target\n",
        "inputs, targets = zip(*conversations)\n",
        "\n",
        "# Tokenization\n",
        "tokenizer = Tokenizer(oov_token=\"<OOV>\")\n",
        "tokenizer.fit_on_texts(inputs + targets)\n",
        "vocab_size = len(tokenizer.word_index) + 1\n"
      ],
      "metadata": {
        "id": "14elxsNZTYpM"
      },
      "execution_count": null,
      "outputs": []
    },
    {
      "cell_type": "code",
      "source": [
        "# Convert text to sequences\n",
        "input_sequences = tokenizer.texts_to_sequences(inputs)\n",
        "target_sequences = tokenizer.texts_to_sequences(targets)\n",
        "\n",
        "# Pad sequences for consistent input size\n",
        "input_padded = pad_sequences(input_sequences)\n",
        "target_padded = pad_sequences(target_sequences)"
      ],
      "metadata": {
        "id": "KxLG-Ra0Tes8"
      },
      "execution_count": null,
      "outputs": []
    },
    {
      "cell_type": "markdown",
      "source": [
        "Model Building"
      ],
      "metadata": {
        "id": "ndeMOANETk0T"
      }
    },
    {
      "cell_type": "code",
      "source": [
        "# Build the model\n",
        "model = Sequential([\n",
        "    Embedding(vocab_size, 64, input_length=input_padded.shape[1]),\n",
        "    LSTM(128),\n",
        "    Dense(vocab_size, activation=\"softmax\")\n",
        "])\n",
        "\n",
        "model.compile(optimizer=\"adam\", loss=\"sparse_categorical_crossentropy\", metrics=[\"accuracy\"])\n"
      ],
      "metadata": {
        "id": "hVBGQtSxTmXT"
      },
      "execution_count": null,
      "outputs": []
    },
    {
      "cell_type": "code",
      "source": [
        "# Function to generate responses\n",
        "def generate_response(user_input):\n",
        "    user_input_seq = tokenizer.texts_to_sequences([user_input])\n",
        "    user_input_padded = pad_sequences(user_input_seq, maxlen=input_padded.shape[1])\n",
        "    predicted_probabilities = model.predict(user_input_padded)[0]\n",
        "\n",
        "    # Find the index with the highest probability\n",
        "    predicted_index = tf.argmax(predicted_probabilities).numpy()\n",
        "\n",
        "    # Check if the predicted index is in the dictionary\n",
        "    if predicted_index in tokenizer.index_word:\n",
        "        return tokenizer.index_word[predicted_index]\n",
        "    else:\n",
        "        # Handle the case where the index is not in the dictionary\n",
        "        return \"Sorry, I didn't understand that.\""
      ],
      "metadata": {
        "id": "Ek-Cq_LpTv6c"
      },
      "execution_count": null,
      "outputs": []
    },
    {
      "cell_type": "markdown",
      "source": [
        "Test Cases"
      ],
      "metadata": {
        "id": "7I2tJFS_-AKv"
      }
    },
    {
      "cell_type": "code",
      "source": [
        "# Test Case 1\n",
        "user_query = \"আপনি কি গুরুত্বপূর্ণ কাজ করতেন?\"\n",
        "response = generate_response(user_query)\n",
        "print(response)"
      ],
      "metadata": {
        "colab": {
          "base_uri": "https://localhost:8080/"
        },
        "id": "9JGA6taMT1U0",
        "outputId": "2a079e17-a3b6-48b3-ae0c-3e9fd70a619a"
      },
      "execution_count": null,
      "outputs": [
        {
          "output_type": "stream",
          "name": "stdout",
          "text": [
            "1/1 [==============================] - 0s 30ms/step\n",
            "শখ\n"
          ]
        }
      ]
    },
    {
      "cell_type": "code",
      "source": [
        "# Test Case 2\n",
        "user_query = \"আপনি কি খেতে পছন্দ করেন?\"\n",
        "response = generate_response(user_query)\n",
        "print(response)"
      ],
      "metadata": {
        "colab": {
          "base_uri": "https://localhost:8080/"
        },
        "id": "-s5Mu98a998E",
        "outputId": "fab7403e-dcce-4b6a-ce24-7be2b90910b5"
      },
      "execution_count": null,
      "outputs": [
        {
          "output_type": "stream",
          "name": "stdout",
          "text": [
            "1/1 [==============================] - 0s 20ms/step\n",
            "কি\n"
          ]
        }
      ]
    },
    {
      "cell_type": "code",
      "source": [
        "# Test Case 3\n",
        "user_query = \"আপনি কি পড়তেন?\"\n",
        "response = generate_response(user_query)\n",
        "print(response)"
      ],
      "metadata": {
        "colab": {
          "base_uri": "https://localhost:8080/"
        },
        "id": "3HnbexYm-FxN",
        "outputId": "c9c098b1-8363-478e-82f7-bab8c5cc106c"
      },
      "execution_count": null,
      "outputs": [
        {
          "output_type": "stream",
          "name": "stdout",
          "text": [
            "1/1 [==============================] - 0s 21ms/step\n",
            "না\n"
          ]
        }
      ]
    },
    {
      "cell_type": "code",
      "source": [
        "# Test Case 4\n",
        "user_query = \"কি প্রযুক্তি বড় এইমুহূর্তে?\"\n",
        "response = generate_response(user_query)\n",
        "print(response)"
      ],
      "metadata": {
        "colab": {
          "base_uri": "https://localhost:8080/"
        },
        "id": "MxBgkdkJ-n1V",
        "outputId": "1ce10836-e279-47fe-8e00-2efe252484a6"
      },
      "execution_count": null,
      "outputs": [
        {
          "output_type": "stream",
          "name": "stdout",
          "text": [
            "1/1 [==============================] - 0s 20ms/step\n",
            "রক্ষণাবেক্ষণ\n"
          ]
        }
      ]
    }
  ]
}